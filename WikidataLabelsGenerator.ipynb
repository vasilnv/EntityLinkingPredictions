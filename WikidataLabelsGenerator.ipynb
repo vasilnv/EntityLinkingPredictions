{
 "cells": [
  {
   "cell_type": "code",
   "execution_count": null,
   "id": "b551529b",
   "metadata": {},
   "outputs": [],
   "source": [
    "from pykeen.datasets import WD50KT\n",
    "\n",
    "dataset = WD50KT()"
   ]
  },
  {
   "cell_type": "code",
   "execution_count": null,
   "id": "6723dce5",
   "metadata": {},
   "outputs": [],
   "source": [
    "import requests\n",
    " \n",
    "def fetch_wikidata(params):\n",
    "    url = 'https://www.wikidata.org/w/api.php'\n",
    "    try:\n",
    "        return requests.get(url, params=params)\n",
    "    except:\n",
    "        return 'There was and error'"
   ]
  },
  {
   "cell_type": "code",
   "execution_count": null,
   "id": "2e2e8e4a",
   "metadata": {},
   "outputs": [],
   "source": [
    "from tqdm import tqdm\n",
    "\n",
    "entities = list(dataset.entity_to_id.keys())\n",
    "\n",
    "labels = []\n",
    "for entity in tqdm(entities, desc=\"Fetching labels\"):\n",
    "    params = {\n",
    "        'action': 'wbgetentities',\n",
    "        'ids': entity,\n",
    "        'format': 'json',\n",
    "        'languages': 'en'\n",
    "    }\n",
    "    data = fetch_wikidata(params).json()\n",
    "    try:\n",
    "        label = data['entities'][entity]['labels']['en']['value']\n",
    "        labels.append(label)\n",
    "    except KeyError:\n",
    "        print(f\"Error with entity: {entity}\")\n",
    "        labels.append(\"\")"
   ]
  },
  {
   "cell_type": "markdown",
   "id": "e9fd578c",
   "metadata": {},
   "source": [
    "## Save into file"
   ]
  },
  {
   "cell_type": "code",
   "execution_count": null,
   "id": "7cb6b324",
   "metadata": {},
   "outputs": [],
   "source": [
    "import pickle\n",
    "\n",
    "# Save labels to a file\n",
    "with open('labels.pkl', 'wb') as f:\n",
    "    pickle.dump(labels, f)"
   ]
  }
 ],
 "metadata": {
  "kernelspec": {
   "display_name": "Python 3 (ipykernel)",
   "language": "python",
   "name": "python3"
  },
  "language_info": {
   "codemirror_mode": {
    "name": "ipython",
    "version": 3
   },
   "file_extension": ".py",
   "mimetype": "text/x-python",
   "name": "python",
   "nbconvert_exporter": "python",
   "pygments_lexer": "ipython3",
   "version": "3.8.10"
  }
 },
 "nbformat": 4,
 "nbformat_minor": 5
}
